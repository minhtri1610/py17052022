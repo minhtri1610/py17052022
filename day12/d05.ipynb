{
 "cells": [
  {
   "cell_type": "code",
   "execution_count": null,
   "metadata": {},
   "outputs": [],
   "source": [
    "'''\n",
    "PREDICTION CONSOLE APP\n",
    "'''"
   ]
  },
  {
   "cell_type": "code",
   "execution_count": 1,
   "metadata": {},
   "outputs": [],
   "source": [
    "import pickle\n",
    "mymodel = pickle.load(open('mymodel.sav','rb'))"
   ]
  },
  {
   "cell_type": "code",
   "execution_count": 3,
   "metadata": {},
   "outputs": [
    {
     "name": "stdout",
     "output_type": "stream",
     "text": [
      "Điểm thi DH1 của bạn sắp tới sẽ là: [[3.1170156]]\n"
     ]
    }
   ],
   "source": [
    "vT1 = float(input('Nhập điểm thi HK1 lớp 10:'))\n",
    "vT2 = float(input('Nhập điểm thi HK2 lớp 10:'))\n",
    "vT3 = float(input('Nhập điểm thi HK1 lớp 11:'))\n",
    "vT4 = float(input('Nhập điểm thi HK2 lớp 11:'))\n",
    "vT5 = float(input('Nhập điểm thi HK1 lớp 12:'))\n",
    "vT6 = float(input('Nhập điểm thi HK2 lớp 12:'))\n",
    "\n",
    "predicted_DH1 = mymodel.predict([[vT1,vT2,vT3,vT4,vT5,vT6]])\n",
    "print(f'Điểm thi DH1 của bạn sắp tới sẽ là: {predicted_DH1}')"
   ]
  }
 ],
 "metadata": {
  "interpreter": {
   "hash": "81794d4967e6c3204c66dcd87b604927b115b27c00565d3d43f05ba2f3a2cb0d"
  },
  "kernelspec": {
   "display_name": "Python 3.9.5 64-bit",
   "language": "python",
   "name": "python3"
  },
  "language_info": {
   "codemirror_mode": {
    "name": "ipython",
    "version": 3
   },
   "file_extension": ".py",
   "mimetype": "text/x-python",
   "name": "python",
   "nbconvert_exporter": "python",
   "pygments_lexer": "ipython3",
   "version": "3.9.5"
  },
  "orig_nbformat": 4
 },
 "nbformat": 4,
 "nbformat_minor": 2
}
